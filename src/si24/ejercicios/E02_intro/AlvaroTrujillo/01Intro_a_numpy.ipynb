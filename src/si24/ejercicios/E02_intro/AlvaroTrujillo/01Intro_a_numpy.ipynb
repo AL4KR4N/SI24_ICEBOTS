{
 "cells": [
  {
   "cell_type": "code",
   "execution_count": 2,
   "metadata": {},
   "outputs": [],
   "source": [
    "import numpy as np"
   ]
  },
  {
   "cell_type": "code",
   "execution_count": 18,
   "metadata": {},
   "outputs": [
    {
     "name": "stdout",
     "output_type": "stream",
     "text": [
      "Inicial:\n",
      "[[0. 0.]\n",
      " [0. 0.]]\n",
      "Ciclo 0:\n",
      "[[1. 1.]\n",
      " [1. 1.]]\n",
      "Ciclo 1:\n",
      "[[2. 2.]\n",
      " [2. 2.]]\n",
      "Ciclo 2:\n",
      "[[3. 3.]\n",
      " [3. 3.]]\n"
     ]
    }
   ],
   "source": [
    "import numpy as np\n",
    "x = np.zeros((2, 2)) # instanciar una matriz de 2x2 inicializada en ceros\n",
    "print(\"Inicial:\")\n",
    "print(x)\n",
    "\n",
    "for i in range(3):\n",
    "  x += np.ones((1, 2))  # np.ones((1, 2)) crea una matriz de 1x2 inicializada en unos\n",
    "  print(f\"Ciclo {i}:\")\n",
    "  print(x)"
   ]
  },
  {
   "cell_type": "code",
   "execution_count": 19,
   "metadata": {},
   "outputs": [
    {
     "name": "stdout",
     "output_type": "stream",
     "text": [
      "La primer matriz es:\n",
      "[[1 2]\n",
      " [3 4]\n",
      " [5 6]]\n",
      "La segunda matriz es:\n",
      "[2 0]\n",
      "Al realizar la suma de a con b, b se convierte en:\n",
      "[[2 0]\n",
      " [2 0]\n",
      " [2 0]]\n",
      "El resultado de sumar ambas matrices es:\n",
      "[[3 2]\n",
      " [5 4]\n",
      " [7 6]]\n"
     ]
    }
   ],
   "source": [
    "import numpy as np\n",
    "a = np.array([[1, 2], [3, 4], [5, 6]])\n",
    "b = np.array([2, 0])\n",
    "\n",
    "print(\"La primer matriz es:\")\n",
    "print(a)\n",
    "\n",
    "print(\"La segunda matriz es:\")\n",
    "print(b)\n",
    "\n",
    "print(\"Al realizar la suma de a con b, b se convierte en:\")\n",
    "b_alterna = np.array([[2, 0], [2, 0], [2, 0]])\n",
    "print(b_alterna)\n",
    "\n",
    "print(\"El resultado de sumar ambas matrices es:\")\n",
    "c = a + b\n",
    "print(c)"
   ]
  },
  {
   "cell_type": "markdown",
   "metadata": {},
   "source": [
    "Operaciones matematicas con numpy ejercicio 1"
   ]
  },
  {
   "cell_type": "code",
   "execution_count": 21,
   "metadata": {},
   "outputs": [
    {
     "name": "stdout",
     "output_type": "stream",
     "text": [
      "(2, 2)\n",
      "(1, 2)\n",
      "(2, 1)\n",
      "Resultado:\n",
      "[[28]\n",
      " [50]]\n"
     ]
    }
   ],
   "source": [
    "import numpy as np\n",
    "W = np.array([[2,3],\n",
    "              [4,5]])\n",
    "print(W.shape)\n",
    "# TODO: inicializa x\n",
    "x = np.array([[5,\n",
    "              6]])\n",
    "print(x.shape)\n",
    "# TODO: Realiza la multiplicación de Wx\n",
    "x_transp=np.transpose(x)\n",
    "A = np.dot(W,x_transp)\n",
    "print(A.shape)\n",
    "print(\"Resultado:\")\n",
    "print(A)"
   ]
  },
  {
   "cell_type": "markdown",
   "metadata": {},
   "source": [
    "Ejercicio 2 numpy:\n",
    "Primero la transpuesta de M es:\n",
    " \n",
    "\\begin{equation}\n",
    "Mtransp=\n",
    "\\begin{bmatrix}\n",
    "3 & 0\\\\\n",
    "1 & 2\n",
    "\\end{bmatrix}\n",
    "\n",
    "\\end{equation}\n",
    "\n",
    "Los eigenval de M: [2,3] y los eigen vectors:\n",
    "\n",
    "\\begin{equation}\n",
    "\\begin{bmatrix}\n",
    "1 & -0.707106\\\\\n",
    "0 & 0.707106\n",
    "\\end{bmatrix}\n",
    "\n",
    "\\end{equation}\n",
    "\n",
    "Magnitud del primer vector M: 3\n",
    "\n",
    "is_pos_def: **False** porque M no es una matriz definida positiva (Al correr vi que me equvioqué pero fui honesto)\n",
    "\n",
    "Inversa de M:\n",
    "\n",
    "\\begin{equation}\n",
    "Mtransp=\n",
    "\\begin{bmatrix}\n",
    "0.66667 & -0.33333\\\\\n",
    "0 & 0.5\n",
    "\\end{bmatrix}\n",
    "\n",
    "\\end{equation}\n",
    "\n",
    "Determinante de M: 6 porque 3x2-1x0=6"
   ]
  },
  {
   "cell_type": "code",
   "execution_count": 22,
   "metadata": {},
   "outputs": [
    {
     "name": "stdout",
     "output_type": "stream",
     "text": [
      "M transpuesta:\n",
      " [[3 0]\n",
      " [1 2]]\n",
      "M eig_val: [3. 2.]\n",
      "M eig_vec:\n",
      " [[ 1.         -0.70710678]\n",
      " [ 0.          0.70710678]]\n",
      "Magnitud del primer vector columna de M:\n",
      " 3.0\n",
      "Positiva definitiva? True\n",
      "Inversa de M [[ 0.33333333 -0.16666667]\n",
      " [ 0.          0.5       ]]\n",
      "Determinante de M: 6.0\n"
     ]
    }
   ],
   "source": [
    "import numpy as np\n",
    "M = np.array([[3,1],\n",
    "               [0,2]])\n",
    "\n",
    "# Calcular la transpuesta\n",
    "M_transpose = M.T\n",
    "print(\"M transpuesta:\\n\", M_transpose)\n",
    "\n",
    "# Calcular valores y vectores propios\n",
    "eig_val, eig_vec = np.linalg.eig(M)\n",
    "print(\"M eig_val:\", eig_val)\n",
    "print(\"M eig_vec:\\n\", eig_vec) # eig_vec es el vector proio unitario. Cada columna representa un eigenvector\n",
    "\n",
    "\n",
    "# Calcular la magnitud de el primer vector columna:\n",
    "norm = np.linalg.norm(M[:,0])\n",
    "print(\"Magnitud del primer vector columna de M:\\n\", norm)\n",
    "\n",
    "# Determinar si la matriz es positiva definitiva\n",
    "is_pos_def = np.all(np.linalg.eigvals(M) > 0)\n",
    "print(\"Positiva definitiva?\", is_pos_def)\n",
    "\n",
    "# Determinar la inversa\n",
    "M_inv = np.linalg.inv(M)\n",
    "print(\"Inversa de M\", M_inv)\n",
    "\n",
    "# Calcular el determinante\n",
    "M_det = np.linalg.det(M)\n",
    "print(\"Determinante de M:\", M_det)"
   ]
  },
  {
   "cell_type": "markdown",
   "metadata": {},
   "source": [
    "Ejercicios de algebra lineal"
   ]
  },
  {
   "cell_type": "code",
   "execution_count": 1,
   "metadata": {},
   "outputs": [
    {
     "ename": "NameError",
     "evalue": "name 'np' is not defined",
     "output_type": "error",
     "traceback": [
      "\u001b[1;31m---------------------------------------------------------------------------\u001b[0m",
      "\u001b[1;31mNameError\u001b[0m                                 Traceback (most recent call last)",
      "Cell \u001b[1;32mIn[1], line 1\u001b[0m\n\u001b[1;32m----> 1\u001b[0m X\u001b[38;5;241m=\u001b[39m \u001b[43mnp\u001b[49m\u001b[38;5;241m.\u001b[39marray([[\u001b[38;5;241m5\u001b[39m,\u001b[38;5;241m3\u001b[39m,\u001b[38;5;241m5\u001b[39m],\n\u001b[0;32m      2\u001b[0m              [\u001b[38;5;241m8\u001b[39m,\u001b[38;5;241m6\u001b[39m,\u001b[38;5;241m7\u001b[39m],\n\u001b[0;32m      3\u001b[0m              [\u001b[38;5;241m4\u001b[39m,\u001b[38;5;241m2\u001b[39m,\u001b[38;5;241m1\u001b[39m]])\n\u001b[0;32m      4\u001b[0m \u001b[38;5;28mprint\u001b[39m(X[\u001b[38;5;241m0\u001b[39m,\u001b[38;5;241m0\u001b[39m])\n\u001b[0;32m      5\u001b[0m \u001b[38;5;28mprint\u001b[39m(X[\u001b[38;5;241m1\u001b[39m,\u001b[38;5;241m2\u001b[39m])\n",
      "\u001b[1;31mNameError\u001b[0m: name 'np' is not defined"
     ]
    }
   ],
   "source": [
    "import numpy as np\n",
    "X= np.array([[5,3,5],\n",
    "             [8,6,7],\n",
    "             [4,2,1]])\n",
    "print(X[0,0])\n",
    "print(X[1,2])\n",
    "print(X[2,:])\n",
    "print(X[:,1])"
   ]
  },
  {
   "cell_type": "markdown",
   "metadata": {},
   "source": [
    "Algebra lineal pt2"
   ]
  },
  {
   "cell_type": "code",
   "execution_count": 6,
   "metadata": {},
   "outputs": [
    {
     "name": "stdout",
     "output_type": "stream",
     "text": [
      "[[ 3 30 21]\n",
      " [ 0 18 72]]\n"
     ]
    }
   ],
   "source": [
    "import numpy as np\n",
    "G = np.array([[3,5,7],\n",
    "              [4,9,8]])\n",
    "H = np.array([[1,6,3],\n",
    "              [0,2,9]])\n",
    "\n",
    "Hadamard=G*H\n",
    "print(Hadamard)"
   ]
  },
  {
   "cell_type": "markdown",
   "metadata": {},
   "source": [
    "Algebra lineal pt.3"
   ]
  },
  {
   "cell_type": "code",
   "execution_count": 5,
   "metadata": {},
   "outputs": [
    {
     "name": "stdout",
     "output_type": "stream",
     "text": [
      "10\n"
     ]
    }
   ],
   "source": [
    "import numpy as np\n",
    "u = np.array([[3],\n",
    "              [1]])\n",
    "v = np.array([[2],\n",
    "              [4]])\n",
    "\n",
    "producto_punto= np.dot(u.flatten(), v.flatten())\n",
    "print(producto_punto)"
   ]
  },
  {
   "cell_type": "markdown",
   "metadata": {},
   "source": [
    "Algebra lineal pt.4"
   ]
  },
  {
   "cell_type": "code",
   "execution_count": 8,
   "metadata": {},
   "outputs": [
    {
     "name": "stdout",
     "output_type": "stream",
     "text": [
      "Multiplicacion resultado:\n",
      "[[ 25  28]\n",
      " [ 57  64]\n",
      " [ 89 100]]\n"
     ]
    }
   ],
   "source": [
    "import numpy as np\n",
    "G = np.array([[1,2],\n",
    "              [3,4],\n",
    "              [5,6]])\n",
    "\n",
    "H = np.array([[7,8],\n",
    "              [9,10]])\n",
    "\n",
    "multiplicaciongh=np.dot(G,H)\n",
    "print(\"Multiplicacion resultado:\")\n",
    "print(multiplicaciongh)"
   ]
  },
  {
   "cell_type": "markdown",
   "metadata": {},
   "source": [
    "Algebbra lineal pt.5"
   ]
  },
  {
   "cell_type": "code",
   "execution_count": 10,
   "metadata": {},
   "outputs": [
    {
     "name": "stdout",
     "output_type": "stream",
     "text": [
      "[[1 2 3]\n",
      " [4 5 6]\n",
      " [7 8 9]]\n",
      "\n",
      "[[1 4 7]\n",
      " [2 5 8]\n",
      " [3 6 9]]\n"
     ]
    }
   ],
   "source": [
    "import numpy as np\n",
    "X = np.arange(1,10)\n",
    "X = X.reshape((3,3))\n",
    "print(X)\n",
    "print(\"\")\n",
    "Xtransp=X.T\n",
    "print(Xtransp)"
   ]
  },
  {
   "cell_type": "markdown",
   "metadata": {},
   "source": [
    "Algebra lineal pt.6"
   ]
  },
  {
   "cell_type": "code",
   "execution_count": 11,
   "metadata": {},
   "outputs": [
    {
     "name": "stdout",
     "output_type": "stream",
     "text": [
      "[[1 2 3]\n",
      " [4 5 6]\n",
      " [7 8 9]]\n",
      "\n",
      "[[ 66  78  90]\n",
      " [ 78  93 108]\n",
      " [ 90 108 126]]\n"
     ]
    }
   ],
   "source": [
    "import numpy as np\n",
    "X = np.arange(1,10)\n",
    "X = X.reshape((3,3))\n",
    "print(X)\n",
    "print(\"\")\n",
    "\n",
    "Z=np.dot(X.T,X)\n",
    "print (Z)"
   ]
  },
  {
   "cell_type": "markdown",
   "metadata": {},
   "source": [
    "¿Que pasa con la matriz Z? ¿es simétrica?**Si es simetrica porque es igual a su traspuesta.**\n",
    "\n",
    "\n",
    "¿De las propiedades vistas en clase, cual se cumple en este caso? **Que el producto siempre es simetrico**"
   ]
  },
  {
   "cell_type": "markdown",
   "metadata": {},
   "source": [
    "ALgebra lineal pt.7"
   ]
  },
  {
   "cell_type": "code",
   "execution_count": 14,
   "metadata": {},
   "outputs": [
    {
     "name": "stdout",
     "output_type": "stream",
     "text": [
      "[[ 66  78  90]\n",
      " [ 78  93 108]\n",
      " [ 90 108 126]]\n",
      "\n",
      "[[ 66  78  90]\n",
      " [ 78  93 108]\n",
      " [ 90 108 126]]\n"
     ]
    }
   ],
   "source": [
    "import numpy as np\n",
    "X = np.arange(1,10)\n",
    "X = X.reshape((3,3))\n",
    "\n",
    "Z=np.dot(X.T,X)\n",
    "print (Z)\n",
    "print(\"\")\n",
    "Ztrasp=Z.T\n",
    "print(Ztrasp)"
   ]
  },
  {
   "cell_type": "markdown",
   "metadata": {},
   "source": [
    "Compara Zy Z^T ,como es la transpuesta de z?\n",
    "**Quedan igual**\n",
    "\n",
    "En base a las propiedades vistas, a cual se debe esto?\n",
    "**A la del producto exterior de un vector por si mismo, cuando se realiza producto punto de cada vector fila con cada vector fila y queda en matriz simetrica**"
   ]
  },
  {
   "cell_type": "markdown",
   "metadata": {},
   "source": [
    "Algebra lineal pt8"
   ]
  },
  {
   "cell_type": "code",
   "execution_count": 15,
   "metadata": {},
   "outputs": [
    {
     "name": "stdout",
     "output_type": "stream",
     "text": [
      "Matriz x1:\n",
      "[[1 1]\n",
      " [4 1]]\n",
      "Valores propios x1:\n",
      "[ 3. -1.]\n",
      "\n",
      "Vectores propios x1:\n",
      "[[ 0.4472136  -0.4472136 ]\n",
      " [ 0.89442719  0.89442719]]\n",
      "Matriz x2:\n",
      "[[2 0]\n",
      " [0 3]]\n",
      "Valores propios x2:\n",
      "[2. 3.]\n",
      "\n",
      "Vectores propios x2:\n",
      "[[1. 0.]\n",
      " [0. 1.]]\n"
     ]
    }
   ],
   "source": [
    "import numpy as np\n",
    "x_1 = np.array([[1,1],\n",
    "                [4,1]])\n",
    "print(\"Matriz x1:\")\n",
    "print(x_1)\n",
    "\n",
    "valorespropios_x1, vectorespropios_x1 = np.linalg.eig(x_1)\n",
    "\n",
    "print(\"Valores propios x1:\")\n",
    "print(valorespropios_x1)\n",
    "print(\"\")\n",
    "\n",
    "print(\"Vectores propios x1:\")\n",
    "print(vectorespropios_x1)\n",
    "x_2 = np.array([[2,0],\n",
    "                [0,3]])\n",
    "\n",
    "print(\"Matriz x2:\")\n",
    "print(x_2)\n",
    "\n",
    "valorespropios_x2, vectorespropios_x2 = np.linalg.eig(x_2)\n",
    "\n",
    "print(\"Valores propios x2:\")\n",
    "print(valorespropios_x2)\n",
    "print(\"\")\n",
    "\n",
    "print(\"Vectores propios x2:\")\n",
    "print(vectorespropios_x2)"
   ]
  }
 ],
 "metadata": {
  "kernelspec": {
   "display_name": "base",
   "language": "python",
   "name": "python3"
  },
  "language_info": {
   "codemirror_mode": {
    "name": "ipython",
    "version": 3
   },
   "file_extension": ".py",
   "mimetype": "text/x-python",
   "name": "python",
   "nbconvert_exporter": "python",
   "pygments_lexer": "ipython3",
   "version": "3.8.18"
  }
 },
 "nbformat": 4,
 "nbformat_minor": 2
}
