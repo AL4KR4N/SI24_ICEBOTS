{
 "cells": [
  {
   "cell_type": "code",
   "execution_count": 17,
   "metadata": {},
   "outputs": [],
   "source": [
    "import numpy as np"
   ]
  },
  {
   "cell_type": "code",
   "execution_count": 18,
   "metadata": {},
   "outputs": [
    {
     "name": "stdout",
     "output_type": "stream",
     "text": [
      "Inicial:\n",
      "[[0. 0.]\n",
      " [0. 0.]]\n",
      "Ciclo 0:\n",
      "[[1. 1.]\n",
      " [1. 1.]]\n",
      "Ciclo 1:\n",
      "[[2. 2.]\n",
      " [2. 2.]]\n",
      "Ciclo 2:\n",
      "[[3. 3.]\n",
      " [3. 3.]]\n"
     ]
    }
   ],
   "source": [
    "x = np.zeros((2, 2)) # instanciar una matriz de 2x2 inicializada en ceros\n",
    "print(\"Inicial:\")\n",
    "print(x)\n",
    "\n",
    "for i in range(3):\n",
    "  x += np.ones((1, 2))  # np.ones((1, 2)) crea una matriz de 1x2 inicializada en unos\n",
    "  print(f\"Ciclo {i}:\")\n",
    "  print(x)"
   ]
  },
  {
   "cell_type": "code",
   "execution_count": 19,
   "metadata": {},
   "outputs": [
    {
     "name": "stdout",
     "output_type": "stream",
     "text": [
      "La primer matriz es:\n",
      "[[1 2]\n",
      " [3 4]\n",
      " [5 6]]\n",
      "La segunda matriz es:\n",
      "[2 0]\n",
      "Al realizar la suma de a con b, b se convierte en:\n",
      "[[2 0]\n",
      " [2 0]\n",
      " [2 0]]\n",
      "El resultado de sumar ambas matrices es:\n",
      "[[3 2]\n",
      " [5 4]\n",
      " [7 6]]\n"
     ]
    }
   ],
   "source": [
    "a = np.array([[1, 2], [3, 4], [5, 6]])\n",
    "b = np.array([2, 0])\n",
    "\n",
    "print(\"La primer matriz es:\")\n",
    "print(a)\n",
    "\n",
    "print(\"La segunda matriz es:\")\n",
    "print(b)\n",
    "\n",
    "print(\"Al realizar la suma de a con b, b se convierte en:\")\n",
    "b_alterna = np.array([[2, 0], [2, 0], [2, 0]])\n",
    "print(b_alterna)\n",
    "\n",
    "print(\"El resultado de sumar ambas matrices es:\")\n",
    "c = a + b\n",
    "print(c)"
   ]
  },
  {
   "cell_type": "markdown",
   "metadata": {},
   "source": [
    "Operaciones matematicas con numpy ejercicio 1"
   ]
  },
  {
   "cell_type": "code",
   "execution_count": 21,
   "metadata": {},
   "outputs": [
    {
     "name": "stdout",
     "output_type": "stream",
     "text": [
      "(2, 2)\n",
      "(1, 2)\n",
      "(2, 1)\n",
      "Resultado:\n",
      "[[28]\n",
      " [50]]\n"
     ]
    }
   ],
   "source": [
    "W = np.array([[2,3],\n",
    "              [4,5]])\n",
    "print(W.shape)\n",
    "# TODO: inicializa x\n",
    "x = np.array([[5,\n",
    "              6]])\n",
    "print(x.shape)\n",
    "# TODO: Realiza la multiplicación de Wx\n",
    "x_transp=np.transpose(x)\n",
    "A = np.dot(W,x_transp)\n",
    "print(A.shape)\n",
    "print(\"Resultado:\")\n",
    "print(A)"
   ]
  },
  {
   "cell_type": "markdown",
   "metadata": {},
   "source": [
    "Ejercicio 2 numpy:\n",
    "Primero la transpuesta de M es:\n",
    " \n",
    "\\begin{equation}\n",
    "Mtransp=\n",
    "\\begin{bmatrix}\n",
    "3 & 0\\\\\n",
    "1 & 2\n",
    "\\end{bmatrix}\n",
    "\n",
    "\\end{equation}\n",
    "\n",
    "Los eigenval de M: [2,3] y los eigen vectors:\n",
    "\n",
    "\\begin{equation}\n",
    "\\begin{bmatrix}\n",
    "1 & -0.707106\\\\\n",
    "0 & 0.707106\n",
    "\\end{bmatrix}\n",
    "\n",
    "\\end{equation}\n",
    "\n",
    "Magnitud del primer vector M: 3\n",
    "\n",
    "is_pos_def: **False** porque M no es una matriz definida positiva (Al correr vi que me equvioqué pero fui honesto)\n",
    "\n",
    "Inversa de M:\n",
    "\n",
    "\\begin{equation}\n",
    "Mtransp=\n",
    "\\begin{bmatrix}\n",
    "0.66667 & -0.33333\\\\\n",
    "0 & 0.5\n",
    "\\end{bmatrix}\n",
    "\n",
    "\\end{equation}\n",
    "\n",
    "Determinante de M: 6 porque 3x2-1x0=6"
   ]
  },
  {
   "cell_type": "code",
   "execution_count": 22,
   "metadata": {},
   "outputs": [
    {
     "name": "stdout",
     "output_type": "stream",
     "text": [
      "M transpuesta:\n",
      " [[3 0]\n",
      " [1 2]]\n",
      "M eig_val: [3. 2.]\n",
      "M eig_vec:\n",
      " [[ 1.         -0.70710678]\n",
      " [ 0.          0.70710678]]\n",
      "Magnitud del primer vector columna de M:\n",
      " 3.0\n",
      "Positiva definitiva? True\n",
      "Inversa de M [[ 0.33333333 -0.16666667]\n",
      " [ 0.          0.5       ]]\n",
      "Determinante de M: 6.0\n"
     ]
    }
   ],
   "source": [
    "M = np.array([[3,1],\n",
    "               [0,2]])\n",
    "\n",
    "# Calcular la transpuesta\n",
    "M_transpose = M.T\n",
    "print(\"M transpuesta:\\n\", M_transpose)\n",
    "\n",
    "# Calcular valores y vectores propios\n",
    "eig_val, eig_vec = np.linalg.eig(M)\n",
    "print(\"M eig_val:\", eig_val)\n",
    "print(\"M eig_vec:\\n\", eig_vec) # eig_vec es el vector proio unitario. Cada columna representa un eigenvector\n",
    "\n",
    "\n",
    "# Calcular la magnitud de el primer vector columna:\n",
    "norm = np.linalg.norm(M[:,0])\n",
    "print(\"Magnitud del primer vector columna de M:\\n\", norm)\n",
    "\n",
    "# Determinar si la matriz es positiva definitiva\n",
    "is_pos_def = np.all(np.linalg.eigvals(M) > 0)\n",
    "print(\"Positiva definitiva?\", is_pos_def)\n",
    "\n",
    "# Determinar la inversa\n",
    "M_inv = np.linalg.inv(M)\n",
    "print(\"Inversa de M\", M_inv)\n",
    "\n",
    "# Calcular el determinante\n",
    "M_det = np.linalg.det(M)\n",
    "print(\"Determinante de M:\", M_det)"
   ]
  },
  {
   "cell_type": "markdown",
   "metadata": {},
   "source": [
    "Ejercicios de algebra lineal"
   ]
  },
  {
   "cell_type": "code",
   "execution_count": 24,
   "metadata": {},
   "outputs": [
    {
     "name": "stdout",
     "output_type": "stream",
     "text": [
      "5\n",
      "7\n",
      "[4 2 1]\n",
      "[3 6 2]\n"
     ]
    }
   ],
   "source": [
    "X= np.array([[5,3,5],\n",
    "             [8,6,7],\n",
    "             [4,2,1]])\n",
    "print(X[0,0])\n",
    "print(X[1,2])\n",
    "print(X[2,:])\n",
    "print(X[:,1])"
   ]
  }
 ],
 "metadata": {
  "kernelspec": {
   "display_name": "base",
   "language": "python",
   "name": "python3"
  },
  "language_info": {
   "codemirror_mode": {
    "name": "ipython",
    "version": 3
   },
   "file_extension": ".py",
   "mimetype": "text/x-python",
   "name": "python",
   "nbconvert_exporter": "python",
   "pygments_lexer": "ipython3",
   "version": "3.11.5"
  }
 },
 "nbformat": 4,
 "nbformat_minor": 2
}
