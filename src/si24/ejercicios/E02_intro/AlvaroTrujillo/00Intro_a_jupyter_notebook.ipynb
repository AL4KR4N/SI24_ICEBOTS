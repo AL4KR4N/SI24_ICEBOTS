{
 "cells": [
  {
   "cell_type": "markdown",
   "metadata": {},
   "source": [
    "ALVARO TRUJILLO 35961 INTRO A JUPYTER NOTEBOOK"
   ]
  },
  {
   "cell_type": "markdown",
   "metadata": {},
   "source": [
    "\\begin{equation}\n",
    "A=\n",
    "\\begin{bmatrix}\n",
    "a & b\\\\\n",
    "c & d\n",
    "\\end{bmatrix}\n",
    "=U\\cdot  \\sum \\cdot V^T\n",
    "\\end{equation}\n"
   ]
  },
  {
   "cell_type": "code",
   "execution_count": 28,
   "metadata": {},
   "outputs": [],
   "source": [
    "a = \"mundo\"\n",
    "def hola(alvaro):\n",
    "  print(\"Hola %s\" %alvaro)"
   ]
  },
  {
   "cell_type": "code",
   "execution_count": 29,
   "metadata": {},
   "outputs": [
    {
     "name": "stdout",
     "output_type": "stream",
     "text": [
      "Hola mundo\n"
     ]
    }
   ],
   "source": [
    "hola(a)\n",
    "a = \"gente\""
   ]
  },
  {
   "cell_type": "markdown",
   "metadata": {},
   "source": [
    "Dependiendo el orden o se imprime hola gente u hola mundo"
   ]
  },
  {
   "cell_type": "code",
   "execution_count": 30,
   "metadata": {},
   "outputs": [],
   "source": [
    "def funcion_ejemplo(a):\n",
    "  pass"
   ]
  },
  {
   "cell_type": "code",
   "execution_count": 31,
   "metadata": {},
   "outputs": [],
   "source": [
    "def funcion_ejemplo(a):\n",
    "  return a*2"
   ]
  },
  {
   "cell_type": "code",
   "execution_count": 32,
   "metadata": {},
   "outputs": [
    {
     "name": "stdout",
     "output_type": "stream",
     "text": [
      "resultado de 2.5 por dos\n"
     ]
    },
    {
     "data": {
      "text/plain": [
       "5.0"
      ]
     },
     "execution_count": 32,
     "metadata": {},
     "output_type": "execute_result"
    }
   ],
   "source": [
    "print(\"resultado de 2.5 por dos\")\n",
    "funcion_ejemplo(2.5)"
   ]
  },
  {
   "cell_type": "markdown",
   "metadata": {},
   "source": [
    "Ejercicio 1"
   ]
  },
  {
   "cell_type": "code",
   "execution_count": 1,
   "metadata": {},
   "outputs": [],
   "source": [
    "def elemento_mayoritario(nums: list):\n",
    "    count = 0\n",
    "    candidate = None\n",
    "\n",
    "    for num in nums:\n",
    "        if count == 0:\n",
    "            candidate = num\n",
    "            count = 1\n",
    "        elif num == candidate:\n",
    "            count += 1\n",
    "        else:\n",
    "            count -= 1\n",
    "\n",
    "    return candidate\n",
    "\n"
   ]
  },
  {
   "cell_type": "code",
   "execution_count": 2,
   "metadata": {},
   "outputs": [
    {
     "ename": "ModuleNotFoundError",
     "evalue": "No module named 'si24'",
     "output_type": "error",
     "traceback": [
      "\u001b[1;31m---------------------------------------------------------------------------\u001b[0m",
      "\u001b[1;31mModuleNotFoundError\u001b[0m                       Traceback (most recent call last)",
      "Cell \u001b[1;32mIn[2], line 1\u001b[0m\n\u001b[1;32m----> 1\u001b[0m \u001b[38;5;28;01mfrom\u001b[39;00m \u001b[38;5;21;01msi24\u001b[39;00m\u001b[38;5;21;01m.\u001b[39;00m\u001b[38;5;21;01mejercicios\u001b[39;00m\u001b[38;5;21;01m.\u001b[39;00m\u001b[38;5;21;01mE02_intro\u001b[39;00m\u001b[38;5;21;01m.\u001b[39;00m\u001b[38;5;21;01mtests\u001b[39;00m\u001b[38;5;21;01m.\u001b[39;00m\u001b[38;5;21;01mmajority_element\u001b[39;00m \u001b[38;5;28;01mimport\u001b[39;00m test_cases\n\u001b[0;32m      3\u001b[0m \u001b[38;5;28;01mfor\u001b[39;00m case \u001b[38;5;129;01min\u001b[39;00m test_cases:\n\u001b[0;32m      4\u001b[0m     nums \u001b[38;5;241m=\u001b[39m case[\u001b[38;5;124m'\u001b[39m\u001b[38;5;124minput\u001b[39m\u001b[38;5;124m'\u001b[39m]\n",
      "\u001b[1;31mModuleNotFoundError\u001b[0m: No module named 'si24'"
     ]
    }
   ],
   "source": [
    "from si24.ejercicios.E02_intro.tests.majority_element import test_cases\n",
    "\n",
    "for case in test_cases:\n",
    "    nums = case['input']\n",
    "    expected_output = case['expected_output']\n",
    "    output = elemento_mayoritario(nums)\n",
    "    print(f\"Input: {nums}. Output esperado: {expected_output}. Output obtenido: {output}\")\n",
    "    assert output == expected_output or (\n",
    "        not expected_output and any(output == n for n in nums)\n",
    "    ), f\"Input: {nums}. Output esperado: {expected_output}. OutpIut obtenido: {output}\""
   ]
  },
  {
   "cell_type": "markdown",
   "metadata": {},
   "source": [
    "Ejercicio 2"
   ]
  },
  {
   "cell_type": "code",
   "execution_count": 38,
   "metadata": {},
   "outputs": [
    {
     "name": "stdout",
     "output_type": "stream",
     "text": [
      "Entrada: Mañana vuelo a francia\n",
      "Salida: [0, 0, 0, 0, 0, 0, 1]\n",
      "\n",
      "Entrada: Feliz inicio de semestre\n",
      "Salida: [1, 0, 0, 0, 1, 0, 0]\n",
      "\n",
      "Entrada: Tengo un perrito en casa\n",
      "Salida: [0, 1, 1, 0, 0, 0, 0]\n"
     ]
    }
   ],
   "source": [
    "def one_hot_string(texto: str, vocab: list):\n",
    "    texto = texto.lower()  \n",
    "    palabras = texto.split()  \n",
    "    one_hot_msg = [0] * len(vocab)  \n",
    "\n",
    "    for palabra in palabras:\n",
    "        if palabra in vocab:\n",
    "            index = vocab.index(palabra) \n",
    "            one_hot_msg[index] += 1  \n",
    "\n",
    "    return one_hot_msg\n",
    "\n",
    "\n"
   ]
  },
  {
   "cell_type": "code",
   "execution_count": 39,
   "metadata": {},
   "outputs": [
    {
     "name": "stdout",
     "output_type": "stream",
     "text": [
      "Entrada: Mañana vuelo a francia\n",
      "Salida: [0, 0, 0, 0, 0, 0, 1]\n",
      "\n",
      "Entrada: Feliz inicio de semestre\n",
      "Salida: [1, 0, 0, 0, 1, 0, 0]\n",
      "\n",
      "Entrada: Tengo un perrito en casa\n",
      "Salida: [0, 1, 1, 0, 0, 0, 0]\n"
     ]
    }
   ],
   "source": [
    "\n",
    "vocabulario = ['feliz', 'perrito', 'casa', 'comida', 'semestre', 'puerta', 'vuelo']\n",
    "\n",
    "msg1 = 'Mañana vuelo a francia'\n",
    "print(\"Entrada:\", msg1)\n",
    "print(\"Salida:\", one_hot_string(msg1, vocabulario))\n",
    "\n",
    "msg2 = 'Feliz inicio de semestre'\n",
    "print(\"\\nEntrada:\", msg2)\n",
    "print(\"Salida:\", one_hot_string(msg2, vocabulario))\n",
    "\n",
    "msg3 = 'Tengo un perrito en casa'\n",
    "print(\"\\nEntrada:\", msg3)\n",
    "print(\"Salida:\", one_hot_string(msg3, vocabulario))"
   ]
  },
  {
   "cell_type": "code",
   "execution_count": 40,
   "metadata": {},
   "outputs": [
    {
     "data": {
      "text/plain": [
       "<matplotlib.collections.PathCollection at 0x202c864b750>"
      ]
     },
     "execution_count": 40,
     "metadata": {},
     "output_type": "execute_result"
    },
    {
     "data": {
      "image/png": "[encoded data removed]",
      "text/plain": [
       "<Figure size 640x480 with 1 Axes>"
      ]
     },
     "metadata": {},
     "output_type": "display_data"
    }
   ],
   "source": [
    "%matplotlib inline\n",
    "\n",
    "\n",
    "import matplotlib.pyplot as plt\n",
    "import numpy as np\n",
    "\n",
    "x = np.random.randn(100, 1)\n",
    "y = np.random.randn(100, 1)\n",
    "\n",
    "c = np.random.uniform(size = (100, 1))\n",
    "plt.scatter(x, y)"
   ]
  }
 ],
 "metadata": {
  "kernelspec": {
   "display_name": "base",
   "language": "python",
   "name": "python3"
  },
  "language_info": {
   "codemirror_mode": {
    "name": "ipython",
    "version": 3
   },
   "file_extension": ".py",
   "mimetype": "text/x-python",
   "name": "python",
   "nbconvert_exporter": "python",
   "pygments_lexer": "ipython3",
   "version": "3.11.5"
  }
 },
 "nbformat": 4,
 "nbformat_minor": 2
}
