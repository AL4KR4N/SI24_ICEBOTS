{
 "cells": [
  {
   "cell_type": "markdown",
   "metadata": {},
   "source": [
    "ALVARO TRUJILLO 35961 INTRO A JUPYTER NOTEBOOK"
   ]
  },
  {
   "cell_type": "markdown",
   "metadata": {},
   "source": [
    "\\begin{equation}\n",
    "A=\n",
    "\\begin{bmatrix}\n",
    "a & b\\\\\n",
    "c & d\n",
    "\\end{bmatrix}\n",
    "=U\\cdot  \\sum \\cdot V^T\n",
    "\\end{equation}\n"
   ]
  },
  {
   "cell_type": "code",
   "execution_count": 28,
   "metadata": {},
   "outputs": [],
   "source": [
    "a = \"mundo\"\n",
    "def hola(alvaro):\n",
    "  print(\"Hola %s\" %alvaro)"
   ]
  },
  {
   "cell_type": "code",
   "execution_count": 29,
   "metadata": {},
   "outputs": [
    {
     "name": "stdout",
     "output_type": "stream",
     "text": [
      "Hola mundo\n"
     ]
    }
   ],
   "source": [
    "hola(a)\n",
    "a = \"gente\""
   ]
  },
  {
   "cell_type": "markdown",
   "metadata": {},
   "source": [
    "Dependiendo el orden o se imprime hola gente u hola mundo"
   ]
  },
  {
   "cell_type": "code",
   "execution_count": 30,
   "metadata": {},
   "outputs": [],
   "source": [
    "def funcion_ejemplo(a):\n",
    "  pass"
   ]
  },
  {
   "cell_type": "code",
   "execution_count": 31,
   "metadata": {},
   "outputs": [],
   "source": [
    "def funcion_ejemplo(a):\n",
    "  return a*2"
   ]
  },
  {
   "cell_type": "code",
   "execution_count": 32,
   "metadata": {},
   "outputs": [
    {
     "name": "stdout",
     "output_type": "stream",
     "text": [
      "resultado de 2.5 por dos\n"
     ]
    },
    {
     "data": {
      "text/plain": [
       "5.0"
      ]
     },
     "execution_count": 32,
     "metadata": {},
     "output_type": "execute_result"
    }
   ],
   "source": [
    "print(\"resultado de 2.5 por dos\")\n",
    "funcion_ejemplo(2.5)"
   ]
  },
  {
   "cell_type": "markdown",
   "metadata": {},
   "source": [
    "Ejercicio 1"
   ]
  },
  {
   "cell_type": "code",
   "execution_count": 1,
   "metadata": {},
   "outputs": [],
   "source": [
    "def elemento_mayoritario(nums: list):\n",
    "    candidate = None\n",
    "    count = 0\n",
    "    \n",
    "    for num in nums:\n",
    "        if count == 0:\n",
    "            candidate = num\n",
    "            count = 1\n",
    "        elif num == candidate:\n",
    "            count += 1\n",
    "        else:\n",
    "            count -= 1\n",
    "\n",
    "    return candidate\n"
   ]
  },
  {
   "cell_type": "code",
   "execution_count": 2,
   "metadata": {},
   "outputs": [
    {
     "name": "stdout",
     "output_type": "stream",
     "text": [
      "Input: [1, 1, 2, 2, 2]. Output esperado: 2. Output obtenido: 2\n",
      "Input: [5, 5, 5, 5, 2, 2, 2]. Output esperado: 5. Output obtenido: 5\n",
      "Input: [-1, -1, -1, 0, 0, 2, 2]. Output esperado: -1. Output obtenido: 2\n"
     ]
    },
    {
     "ename": "AssertionError",
     "evalue": "Input: [-1, -1, -1, 0, 0, 2, 2]. Output esperado: -1. OutpIut obtenido: 2",
     "output_type": "error",
     "traceback": [
      "\u001b[1;31m---------------------------------------------------------------------------\u001b[0m",
      "\u001b[1;31mAssertionError\u001b[0m                            Traceback (most recent call last)",
      "Cell \u001b[1;32mIn[2], line 8\u001b[0m\n\u001b[0;32m      6\u001b[0m output \u001b[38;5;241m=\u001b[39m elemento_mayoritario(nums)\n\u001b[0;32m      7\u001b[0m \u001b[38;5;28mprint\u001b[39m(\u001b[38;5;124mf\u001b[39m\u001b[38;5;124m\"\u001b[39m\u001b[38;5;124mInput: \u001b[39m\u001b[38;5;132;01m{\u001b[39;00mnums\u001b[38;5;132;01m}\u001b[39;00m\u001b[38;5;124m. Output esperado: \u001b[39m\u001b[38;5;132;01m{\u001b[39;00mexpected_output\u001b[38;5;132;01m}\u001b[39;00m\u001b[38;5;124m. Output obtenido: \u001b[39m\u001b[38;5;132;01m{\u001b[39;00moutput\u001b[38;5;132;01m}\u001b[39;00m\u001b[38;5;124m\"\u001b[39m)\n\u001b[1;32m----> 8\u001b[0m \u001b[38;5;28;01massert\u001b[39;00m output \u001b[38;5;241m==\u001b[39m expected_output \u001b[38;5;129;01mor\u001b[39;00m (\n\u001b[0;32m      9\u001b[0m     \u001b[38;5;129;01mnot\u001b[39;00m expected_output \u001b[38;5;129;01mand\u001b[39;00m \u001b[38;5;28many\u001b[39m(output \u001b[38;5;241m==\u001b[39m n \u001b[38;5;28;01mfor\u001b[39;00m n \u001b[38;5;129;01min\u001b[39;00m nums)\n\u001b[0;32m     10\u001b[0m ), \u001b[38;5;124mf\u001b[39m\u001b[38;5;124m\"\u001b[39m\u001b[38;5;124mInput: \u001b[39m\u001b[38;5;132;01m{\u001b[39;00mnums\u001b[38;5;132;01m}\u001b[39;00m\u001b[38;5;124m. Output esperado: \u001b[39m\u001b[38;5;132;01m{\u001b[39;00mexpected_output\u001b[38;5;132;01m}\u001b[39;00m\u001b[38;5;124m. OutpIut obtenido: \u001b[39m\u001b[38;5;132;01m{\u001b[39;00moutput\u001b[38;5;132;01m}\u001b[39;00m\u001b[38;5;124m\"\u001b[39m\n",
      "\u001b[1;31mAssertionError\u001b[0m: Input: [-1, -1, -1, 0, 0, 2, 2]. Output esperado: -1. OutpIut obtenido: 2"
     ]
    }
   ],
   "source": [
    "from si24.ejercicios.E02_intro.tests.majority_element import test_cases\n",
    "\n",
    "for case in test_cases:\n",
    "    nums = case['input']\n",
    "    expected_output = case['expected_output']\n",
    "    output = elemento_mayoritario(nums)\n",
    "    print(f\"Input: {nums}. Output esperado: {expected_output}. Output obtenido: {output}\")\n",
    "    assert output == expected_output or (\n",
    "        not expected_output and any(output == n for n in nums)\n",
    "    ), f\"Input: {nums}. Output esperado: {expected_output}. OutpIut obtenido: {output}\""
   ]
  },
  {
   "cell_type": "markdown",
   "metadata": {},
   "source": [
    "Ejercicio 2"
   ]
  },
  {
   "cell_type": "code",
   "execution_count": 3,
   "metadata": {},
   "outputs": [],
   "source": [
    "def one_hot_string(texto: str, vocab: list):\n",
    "    texto = texto.lower()  \n",
    "    palabras = texto.split()  \n",
    "    one_hot_msg = [0] * len(vocab)  \n",
    "\n",
    "    for palabra in palabras:\n",
    "        if palabra in vocab:\n",
    "            index = vocab.index(palabra) \n",
    "            one_hot_msg[index] += 1  \n",
    "\n",
    "    return one_hot_msg\n",
    "\n",
    "\n"
   ]
  },
  {
   "cell_type": "code",
   "execution_count": 4,
   "metadata": {},
   "outputs": [
    {
     "name": "stdout",
     "output_type": "stream",
     "text": [
      "vocabulario:  ['feliz', 'perrito', 'casa', 'comida', 'semestre', 'puerta', 'vuelo']\n",
      "\t Mensaje:  Mañana vuelo a francia \t Salida:  [0, 0, 0, 0, 0, 0, 1] \t Esperado:  [0, 0, 0, 0, 0, 0, 1]\n",
      "\t Mensaje:  Feliz inicio de semestre \t Salida:  [1, 0, 0, 0, 1, 0, 0] \t Esperado:  [1, 0, 0, 0, 1, 0, 0]\n",
      "\t Mensaje:  Tengo un perrito en casa \t Salida:  [0, 1, 1, 0, 0, 0, 0] \t Esperado:  [0, 1, 1, 0, 0, 0, 0]\n",
      "vocabulario:  ['feliz', 'perrito', 'casa', 'comida', 'semestre', 'puerta', 'vuelo']\n",
      "\t Mensaje:  Hola, feliz día \t Salida:  [1, 0, 0, 0, 0, 0, 0] \t Esperado:  [1, 0, 0, 0, 0, 0, 0]\n",
      "\t Mensaje:  No tengo tiempo para la comida \t Salida:  [0, 0, 0, 1, 0, 0, 0] \t Esperado:  [0, 0, 0, 1, 0, 0, 0]\n",
      "\t Mensaje:  Mi casa tiene una puerta grande \t Salida:  [0, 0, 1, 0, 0, 1, 0] \t Esperado:  [0, 0, 1, 0, 0, 1, 0]\n",
      "vocabulario:  ['feliz', 'perrito', 'casa', 'comida', 'semestre', 'puerta', 'vuelo']\n",
      "\t Mensaje:  Esto es una prueba \t Salida:  [0, 0, 0, 0, 0, 0, 0] \t Esperado:  [0, 0, 0, 0, 0, 0, 0]\n",
      "\t Mensaje:  Otro mensaje de prueba \t Salida:  [0, 0, 0, 0, 0, 0, 0] \t Esperado:  [0, 0, 0, 0, 0, 0, 0]\n",
      "\t Mensaje:  Nada relevante aquí \t Salida:  [0, 0, 0, 0, 0, 0, 0] \t Esperado:  [0, 0, 0, 0, 0, 0, 0]\n"
     ]
    }
   ],
   "source": [
    "from si24.ejercicios.E02_intro.tests.one_hot_str import test_cases\n",
    "\n",
    "\n",
    "for test in test_cases:\n",
    "    message_list = test['messages']\n",
    "    vocab = test['vocab']\n",
    "    outputs = test['expected_output']\n",
    "    print(\"vocabulario: \", vocab)\n",
    "    for i in range(len(message_list)):\n",
    "        msg = message_list[i]\n",
    "        expected_output = outputs[i]\n",
    "        salida = one_hot_string(msg, vocab)\n",
    "        print(\"\\t Mensaje: \", msg, \"\\t Salida: \", salida, \"\\t Esperado: \", expected_output)\n",
    "        assert salida == expected_output, \"Tu solución es incorrecta\""
   ]
  },
  {
   "cell_type": "code",
   "execution_count": 6,
   "metadata": {},
   "outputs": [
    {
     "data": {
      "text/plain": [
       "<matplotlib.collections.PathCollection at 0x1f8353b5220>"
      ]
     },
     "execution_count": 6,
     "metadata": {},
     "output_type": "execute_result"
    },
    {
     "data": {
      "image/png": "[encoded data removed]",
      "text/plain": [
       "<Figure size 640x480 with 1 Axes>"
      ]
     },
     "metadata": {},
     "output_type": "display_data"
    }
   ],
   "source": [
    "%matplotlib inline\n",
    "\n",
    "\n",
    "import matplotlib.pyplot as plt\n",
    "import numpy as np\n",
    "\n",
    "x = np.random.randn(100, 1)\n",
    "y = np.random.randn(100, 1)\n",
    "\n",
    "c = np.random.uniform(size = (100, 1))\n",
    "plt.scatter(x, y)"
   ]
  }
 ],
 "metadata": {
  "kernelspec": {
   "display_name": "base",
   "language": "python",
   "name": "python3"
  },
  "language_info": {
   "codemirror_mode": {
    "name": "ipython",
    "version": 3
   },
   "file_extension": ".py",
   "mimetype": "text/x-python",
   "name": "python",
   "nbconvert_exporter": "python",
   "pygments_lexer": "ipython3",
   "version": "3.8.18"
  }
 },
 "nbformat": 4,
 "nbformat_minor": 2
}
